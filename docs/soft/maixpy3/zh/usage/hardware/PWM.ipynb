{
 "cells": [
  {
   "cell_type": "markdown",
   "metadata": {},
   "source": [
    "---\n",
    "\n",
    "title: Linux PWM 的使用\n",
    "\n",
    "keywords: maixpy3, PWM, Linux\n",
    "\n",
    "desc: maixpy3 doc: PWM 的使用\n",
    "\n",
    "---"
   ]
  },
  {
   "cell_type": "markdown",
   "metadata": {},
   "source": [
    "MaixPy3 把 Linux 系统中的 PWM 的使用方法进行封装和简化使用，让用户使用起来更加的简单\n",
    "\n",
    "## 使用方式\n",
    "\n",
    "PWM 的使用方式和 GPIO 的类似，需要根据管脚定义图确定所使用的 PWM 通道序号，下面以 MaixII-Dock 为例子讲述如何使用 MaixPy3 中的 PWM \n",
    "\n",
    "### 准备\n",
    "\n",
    "查看开发板的管脚定义图，选择 PWM 输出通道序号，PWM-x 是指 PWM 的输出通道序号\n",
    "\n",
    "![MaixII-Dock 管脚图](./../asserts/M2Dock_pin.jpg)\n",
    "\n",
    "这里选择使用 PWM-6\n",
    "\n",
    "### 开始\n",
    "\n",
    "先将 PWM-6 实例化，设置周期和占空比，最后是使能 PWM，就可以输出了，具体代码看下面"
   ]
  },
  {
   "cell_type": "code",
   "execution_count": null,
   "metadata": {},
   "outputs": [],
   "source": [
    "from maix import pwm\n",
    "\n",
    "pwm6 = pwm.PWM(6)\n",
    "pwm6.export()\n",
    "pwm6.period = 25000000  # 表示 pwm 的周期，单位 ns\n",
    "pwm6.duty_cycle = 100  # 表示占空比，单位 ns\n",
    "pwm6.enable = True        # 表示是否使能 pwm\n",
    "for t in range (3):\n",
    "    for i in range(0, 25000000, +1000000):\n",
    "        pwm6.duty_cycle = i\n",
    "        time.sleep(0.05)\n",
    "    for i in range(25000000, 0, -1000000):\n",
    "        pwm6.duty_cycle = i\n",
    "        time.sleep(0.05)"
   ]
  },
  {
   "cell_type": "markdown",
   "metadata": {},
   "source": [
    "别的开发板使用方式是同样的流程，包括树莓派\n",
    "\n",
    "> 注明：\n",
    "> 建议小白使用在对应开发管脚定义图上的对应 PWM 通道，别的通道需要自行查看 [Linux PWM](https://www.baidu.com/s?ie=UTF-8&wd=Linux%20PWM) 使用方法。\n",
    "\n",
    "\n",
    "## PWM 用途\n",
    "\n",
    "1. 呼吸灯\n",
    "2. PWM 可以作为电机驱动控制信号，驱动舵机。但是外接电机的时候需要做好电源隔离，不要直接将舵机接到开发板上，舵机产生的反向电流会把开发板上的芯片给击穿。\n",
    "\n",
    "## 了解更多\n",
    "\n",
    "更多关于 Linux PWM 的可以查看大老鼠写的[博客](https://www.cnblogs.com/juwan/p/14343977.html)"
   ]
  }
 ],
 "metadata": {
  "kernelspec": {
   "display_name": "RPyc-Python",
   "language": "Python",
   "name": "rpyc"
  },
  "orig_nbformat": 4
 },
 "nbformat": 4,
 "nbformat_minor": 2
}
