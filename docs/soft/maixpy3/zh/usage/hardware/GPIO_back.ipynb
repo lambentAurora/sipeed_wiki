{
 "cells": [
  {
   "cell_type": "markdown",
   "metadata": {},
   "source": [
    "---\n",
    "\n",
    "title: GPIO 的使用\n",
    "keywords: maixpy3, GPIO\n",
    "desc: maixpy3 doc: GPIO\n",
    "\n",
    "---"
   ]
  },
  {
   "cell_type": "markdown",
   "metadata": {},
   "source": [
    "## 简介\n",
    "\n",
    "GPIO, 全称 General-Purpose Input/Output（通用输入输出），是一种软件运行期间能够动态配置和控制的通用引脚。所有的 GPIO 在上电后的初始状态都是输入模式，可以通过软件设为上拉或下拉，也可以设置为中断脚，驱动强度都是可编程的。\n",
    "\n",
    "Maixpy3 通过将 GPIO 的一些复杂使用方法进行了封装，并进行简化，方便用户在使用过程更加的`随心所欲`和`便捷`。\n",
    "\n",
    "## 使用方法\n",
    "\n",
    "Maixpy3 目前适配了市面上的一些 `Linux 系统开发板`，对不同的板子进行了不同的封装。在使用之前，只需要加载使用的型号即可（不加载默认是使用树莓派配置）\n",
    "\n",
    "下面以 **MaixII-Dock** 为例，讲述如何使用，先上代码"
   ]
  },
  {
   "cell_type": "code",
   "execution_count": null,
   "metadata": {},
   "outputs": [],
   "source": [
    "import time\n",
    "from maix import gpio\n",
    "gpio.load(gpio.m2dock)\n",
    "led = gpio.gpio(6)\n",
    "print(led.source)\n",
    "for i in range(3):\n",
    "    led.set_value(0)\n",
    "    print(led.get_value())\n",
    "    time.sleep(0.5)\n",
    "    led.set_value(1)\n",
    "    print(led.get_value())\n",
    "    time.sleep(0.5)\n",
    "led.release()"
   ]
  },
  {
   "cell_type": "markdown",
   "metadata": {},
   "source": [
    "通过查看 MaixII-Dock 开发板的[管脚定义图](/hardware/zh/maixII/M2/resources.html#硬件参数)，一共有5个引出的 GPIO，这里使用 MaixII-Dock 开发板上的　GPIO 6 管脚。\n",
    "\n",
    "在对管脚进行操作之前，需要使用 `gpio.load()` 加载配置项。将使用的 GPIO 管脚实例化，就能直接调用 API 对其进行直接的操作。\n",
    "\n",
    "目前 GPIO 只能使用于设置高低电平和获取当前管脚的状态\n",
    "\n",
    "| API | 功能 |\n",
    "| --- | --- |\n",
    "| gpio.load() | 加载配置项 |\n",
    "| gpio.set_value() | 设置管脚电平 |\n",
    "| gpio.get_value() | 获取管脚电平 |\n",
    "\n",
    "> 其他适配过 MaixPy3 的开发板，使用方法同理。\n",
    "\n",
    "## 了解更多\n",
    "\n",
    "Linux 系统中，使用 GPIO 作为电平的输出口，我们需要关注 [GPIO_line 、GPIO_bank 和 GPIO_chip](https://www.baidu.com/s?ie=utf-8&wd=GPIO_line%20%20GPIO_bank%20GPIO_chip)，这个三个参数。以上面的例程为例子来说，使用 MaixII-Dock 上的 GPIO6，通过查看开发板上引出口的丝印，可以知道 GPIO6 绑定在 PH6 的这个管脚上。\n",
    "\n",
    "通过查看 [V831_PIN 功能介绍](https://thoughts.teambition.com/share/600659e9823a3d004a4e1c7a#slate-title)得知，V831 只能使用 gpiochip1。这时我们知道了三个参数分别为6、H 和 1。 这时可以使用以下的代码进行 GPIO 的实例化\n"
   ]
  },
  {
   "cell_type": "code",
   "execution_count": null,
   "metadata": {},
   "outputs": [],
   "source": [
    "from maix import gpio\n",
    "import time\n",
    "led = gpio.gpio(6, \"H\", 1)\n",
    "print(led.source)\n",
    "for i in range(3):\n",
    "    led.set_value(0)\n",
    "    print(led.get_value())\n",
    "    time.sleep(0.5)\n",
    "    led.set_value(1)\n",
    "    print(led.get_value())\n",
    "    time.sleep(0.5)\n",
    "led.release()"
   ]
  },
  {
   "cell_type": "markdown",
   "metadata": {},
   "source": [
    "对于其他的开发板同理，我们只需要通过查看管脚定义图或者是原理图来获取到 GPIO_line 、GPIO_bank 这两个参数，再通过查询可使用的 gpio_chip ，就可以通过 MaixPy3 来进行 GPIO 的控制。\n",
    "\n",
    "> 如果 gpio_chip 值选择错误了，就会报 `line offset out of range` 错误\n",
    "> 更多的关于 Linux_gpio 的使用可以查看[juwan](https://www.cnblogs.com/juwan/p/14336100.html)的博客\n"
   ]
  }
 ],
 "metadata": {
  "interpreter": {
   "hash": "bb91668044d287392e27a63813e4511955e93a04916e4b40f0ab29638fe928fd"
  },
  "kernelspec": {
   "display_name": "Python 3.8.10 64-bit",
   "language": "python",
   "name": "python3"
  },
  "language_info": {
   "codemirror_mode": {
    "name": "ipython",
    "version": 3
   },
   "file_extension": ".py",
   "mimetype": "text/x-python",
   "name": "python",
   "nbconvert_exporter": "python",
   "pygments_lexer": "ipython3",
   "version": "3.8.10"
  },
  "orig_nbformat": 4
 },
 "nbformat": 4,
 "nbformat_minor": 2
}
