{
 "cells": [
  {
   "cell_type": "markdown",
   "metadata": {},
   "source": [
    "---\n",
    "\n",
    "title: Linux SPI 的使用\n",
    "\n",
    "keywords: maixpy3, SPI, Linux\n",
    "\n",
    "desc: maixpy3 doc: SPI 的使用\n",
    "\n",
    "---"
   ]
  },
  {
   "cell_type": "markdown",
   "metadata": {},
   "source": [
    "## 使用教程\n",
    "\n",
    "在 Linux 系统中，SPI 是以设备的形式存在的，所使用的方式和原来的单片机方式有所不同。下面以 MaixII-Dock 为例子，来简单的简述一下如何使用 SPI。\n",
    "\n",
    "### 准备\n",
    "\n",
    "通过查看开发板的管脚定义图，确定自己使用的 SPI 通道序号，片选序号。\n",
    "\n",
    "\n",
    "### 开始\n",
    "\n",
    "![MaixII-Dock 管脚图](./../asserts/M2Dock_pin.jpg)\n",
    "\n",
    "以 MaixII-Dock 为例。查看 MaixII-Dock 管脚图，只引出了一个 SPI 通道，使用的是 SPI-1，片选0。使用代码为"
   ]
  },
  {
   "cell_type": "code",
   "execution_count": null,
   "metadata": {},
   "outputs": [],
   "source": [
    "from maix import spi\n",
    "spi = spi.SpiDev()\n",
    "spi.open(1, 0)\n",
    "spi.bits_per_word = 8\n",
    "spi.max_speed_hz = 1\n",
    "spi.mode = 0b11\n",
    "import time\n",
    "while True:\n",
    "  time.sleep(0.1)\n",
    "  to_send = [0x01, 0x02, 0x01]\n",
    "  print(spi.xfer2(to_send, 800000))"
   ]
  },
  {
   "cell_type": "markdown",
   "metadata": {},
   "source": [
    "这里所使用的是标准 Python 中的 spidev 库，更多的使用方法可以查看 [Python spidev](https://www.baidu.com/s?ie=utf-8&wd=Python%20spidev)\n",
    "\n",
    "## 了解更多\n",
    "\n",
    "SPI 通信协议的[原理](https://zhuanlan.zhihu.com/p/139903418)\n",
    "\n",
    "MaixII-Dock SPI 开发[历程](https://www.cnblogs.com/juwan/p/14341406.html)"
   ]
  }
 ],
 "metadata": {
  "kernelspec": {
   "display_name": "RPyc-Python",
   "language": "Python",
   "name": "rpyc"
  },
  "orig_nbformat": 4
 },
 "nbformat": 4,
 "nbformat_minor": 2
}
