{
 "cells": [
  {
   "cell_type": "markdown",
   "metadata": {},
   "source": [
    "---\n",
    "\n",
    "title: Linux I2C 的使用\n",
    "\n",
    "keywords: maixpy3, I2C，Linux\n",
    "\n",
    "desc: maixpy3 doc: I2C 的使用\n",
    "\n",
    "---"
   ]
  },
  {
   "cell_type": "markdown",
   "metadata": {},
   "source": [
    "MaixPy3 把 Linux 系统中的 I2C 的使用方法进行封装和简化使用，让用户使用起来更加的简单。\n",
    "\n",
    "## 使用方法\n",
    "目前 MaixPy3 所封装的 I2C 只有主机模式，还不能使用从机模式。\n",
    "\n",
    "### 准备\n",
    "\n",
    "使用之前需要将硬件连接好，将 SDL 和 SDA 的两个数据线连接到开发板上的对应的 SDA 和 SDL 的管脚上。通过查看开发板上的 **管脚定义图** ，确定所接上的 I2C 总线的序号，一般是以 I2C-x 或者是 SDL.x、SDA.x 的形式标示，x为总线序号。\n",
    "\n",
    "如**树莓派**中的管脚定义图，这里的 SDA.1 和 SCL.1 指是的 I2C-1 的总线\n",
    "\n",
    "![](./../../assets/linux/I2C/I2C-1.png)\n",
    "\n",
    "\n",
    "### 连接\n",
    "\n",
    "**扫描设备**\n",
    "\n",
    "查看总线上的设备地址(返回十进制的数据)"
   ]
  },
  {
   "cell_type": "code",
   "execution_count": 1,
   "metadata": {},
   "outputs": [
    {
     "name": "stdout",
     "output_type": "stream",
     "text": [
      "[ rpyc-kernel ]( running at Wed Jan  5 17:22:45 2022 )\n",
      "[38]\n"
     ]
    }
   ],
   "source": [
    "from maix import i2c\n",
    "print(i2c.scan())"
   ]
  },
  {
   "cell_type": "markdown",
   "metadata": {},
   "source": [
    "**实例化设备**\n",
    "\n",
    "`/dev/i2c-x` 是指所使用的 I2C 总线序号"
   ]
  },
  {
   "cell_type": "code",
   "execution_count": 1,
   "metadata": {},
   "outputs": [
    {
     "name": "stdout",
     "output_type": "stream",
     "text": [
      "[ rpyc-kernel ]( running at Wed Jan  5 17:22:49 2022 )\n"
     ]
    }
   ],
   "source": [
    "from maix import i2c\n",
    "i2c = i2c.I2C('/dev/i2c-2', 0x26)"
   ]
  },
  {
   "cell_type": "markdown",
   "metadata": {},
   "source": [
    "**读取设备寄存器信息**"
   ]
  },
  {
   "cell_type": "code",
   "execution_count": 1,
   "metadata": {},
   "outputs": [
    {
     "name": "stdout",
     "output_type": "stream",
     "text": [
      "[ rpyc-kernel ]( running at Wed Jan  5 17:22:53 2022 )\n",
      "bytearray(b'\\x13')\n"
     ]
    }
   ],
   "source": [
    "from maix import i2c\n",
    "\n",
    "i2c = i2c.I2C('/dev/i2c-2', 0x26)\n",
    "print(i2c.read(0x1, 1))"
   ]
  },
  {
   "cell_type": "markdown",
   "metadata": {},
   "source": [
    "更多的使用方法，请看 I2C API 文档\n",
    "\n",
    "## 了解更多\n",
    "\n",
    "MaixPy3 中的 i2c 是基于 libi2c 进行封装的，想要了解更加多，可以自行查阅 libi2c。\n",
    "\n",
    "\n"
   ]
  }
 ],
 "metadata": {
  "interpreter": {
   "hash": "bb91668044d287392e27a63813e4511955e93a04916e4b40f0ab29638fe928fd"
  },
  "kernelspec": {
   "display_name": "RPyc-Python",
   "language": "Python",
   "name": "rpyc"
  },
  "language_info": {
   "codemirror_mode": "python",
   "file_extension": ".py",
   "mimetype": "text/python",
   "name": "Python"
  }
 },
 "nbformat": 4,
 "nbformat_minor": 2
}
