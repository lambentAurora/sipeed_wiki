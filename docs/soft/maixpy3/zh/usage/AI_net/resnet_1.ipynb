{
 "cells": [
  {
   "cell_type": "markdown",
   "metadata": {},
   "source": [
    "---\n",
    "\n",
    "title: 1000种物品分类\n",
    "keywords: resnet18, 分类神经网络, MaixPy3 AI\n",
    "desc: maixpy doc: 1000种物品分类\n",
    "\n",
    "---"
   ]
  },
  {
   "cell_type": "markdown",
   "metadata": {},
   "source": [
    "# 1000种物品分类\n",
    "\n",
    "MaixPy3 可以在不同的硬件平台上部署 AI 模型，对于 MaixII-Dock、 MaixSense 平台可以使用对应的神经网络处理器，但是所使用的模型都是不一样的。\n",
    "\n",
    "## 获取模型\n",
    "\n",
    "对于不同的平台，我们提供对应的模型文件供给大家进行体验和使用\n",
    "\n",
    "- [Linux]()\n",
    "- [MaixII-Dock]()\n",
    "- [MaixSense]()\n",
    "\n",
    "将模型文件导入到 `root` 文件夹下，对于 MaixII-Dock 可以直接"
   ]
  }
 ],
 "metadata": {
  "language_info": {
   "name": "python"
  },
  "orig_nbformat": 4
 },
 "nbformat": 4,
 "nbformat_minor": 2
}
